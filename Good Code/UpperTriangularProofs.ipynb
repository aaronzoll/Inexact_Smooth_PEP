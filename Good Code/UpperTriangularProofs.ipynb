{
 "cells": [
  {
   "cell_type": "markdown",
   "id": "60aa8238-2ef1-4afe-9e04-ab89b9d943d7",
   "metadata": {},
   "source": [
    "# Implementation Recovering OGM"
   ]
  },
  {
   "cell_type": "code",
   "execution_count": 1,
   "id": "a371178e-2fdf-4fc1-bffd-a7d77677ae07",
   "metadata": {},
   "outputs": [
    {
     "name": "stdout",
     "output_type": "stream",
     "text": [
      "\n",
      "******************************************************************************\n",
      "This program contains Ipopt, a library for large-scale nonlinear optimization.\n",
      " Ipopt is released as open source code under the Eclipse Public License (EPL).\n",
      "         For more information visit https://github.com/coin-or/Ipopt\n",
      "******************************************************************************\n",
      "\n",
      "Status: LOCALLY_SOLVED\n",
      "Objective (∑ a_i): 26.898876584900357\n",
      "a = 1-dimensional DenseAxisArray{Float64,1,...} with index sets:\n",
      "    Dimension 1, 0:5\n",
      "And data, a 6-element Vector{Float64}:\n",
      " 1.999999944183546\n",
      " 3.236067923466534\n",
      " 4.387054115754427\n",
      " 5.499582624488791\n",
      " 6.589759300459151\n",
      " 5.186412676547909\n",
      "λ = \n",
      "0 1.9999999268726358 0 0 0 0\n",
      "0 0 5.2360678391195306 0 0 0\n",
      "0 0 0 9.623121943812368 0 0\n",
      "0 0 0 0 15.122704562760223 0\n",
      "0 0 0 0 0 21.712463876632764\n",
      "0 0 0 0 0 0\n"
     ]
    }
   ],
   "source": [
    "using JuMP\n",
    "using Ipopt\n",
    "\n",
    "# (1) Problem size\n",
    "N = 5  # you can change this for testing\n",
    "\n",
    "# (2) Build the model with Ipopt\n",
    "model = Model(Ipopt.Optimizer)\n",
    "\n",
    "set_optimizer_attribute(model, \"print_level\",             0)\n",
    "set_optimizer_attribute(model, \"print_timing_statistics\", \"no\")\n",
    "set_optimizer_attribute(model, \"print_user_options\",      \"no\")\n",
    "set_optimizer_attribute(model, \"tol\", 1e-8)\n",
    "set_optimizer_attribute(model, \"max_iter\", 5000)\n",
    "\n",
    "# (3) Decision variables:\n",
    "#     a[i] ≥ 0 for i = 0,…,N\n",
    "#     λ[i,j] ≥ 0 for i,j = 0,…,N\n",
    "#    JuMP supports zero‐based indexing directly:\n",
    "@variable(model, a[0:N])\n",
    "@variable(model, λ[0:N, 0:N] >= 0)\n",
    "\n",
    "# (4) Constraints\n",
    "for i in 0:N\n",
    "    # zero diagonal\n",
    "    @constraint(model, λ[i,i] == 0)\n",
    "\n",
    "\n",
    "    for j in 0:i\n",
    "        @constraint(model, λ[i,j] == 0)\n",
    "    end\n",
    "\n",
    "    # flow‐balance constraints\n",
    "    if i < N\n",
    "        @constraint(model,\n",
    "            sum(λ[i,j] - λ[j,i] for j in 0:N) == a[i]\n",
    "        )\n",
    "    else\n",
    "        # for i = N, RHS is -sum_j a_j\n",
    "        @constraint(model,\n",
    "            sum(λ[N,j] - λ[j,N] for j in 0:N) == -1*sum(a[j] for j in 0:(N-1))\n",
    "        )\n",
    "    end\n",
    "\n",
    "    # nonlinear “capacity” constraint:\n",
    "    #   ∑_j (–λ_ij – λ_ji) + a_i + a_i^2 ≤ 0\n",
    "    @NLconstraint(model,\n",
    "        sum(-λ[i,j] - λ[j,i] for j in 0:N) - a[i] + a[i]^2 <= 0\n",
    "    )\n",
    "end\n",
    "\n",
    "# (5) Objective: maximize ∑_i a_i\n",
    "@objective(model, Max, sum(a[i] for i in 0:N))\n",
    "\n",
    "# (6) Solve\n",
    "optimize!(model)\n",
    "\n",
    "# (7) Report results\n",
    "println(\"Status: \", termination_status(model))\n",
    "println(\"Objective (∑ a_i): \", objective_value(model))\n",
    "println(\"a = \", value.(a))\n",
    "println(\"λ = \")\n",
    "for i in 0:N, j in 0:N\n",
    "    val = value(λ[i,j])\n",
    "    if abs(val) <= 1e-6\n",
    "        val=0\n",
    "    end\n",
    "    print(val, j == N ? \"\\n\" : \" \")\n",
    "end"
   ]
  },
  {
   "cell_type": "code",
   "execution_count": null,
   "id": "e00c384d-2ab0-4fce-a0f5-d7090fc48195",
   "metadata": {},
   "outputs": [
    {
     "data": {
      "text/plain": [
       "5×5 Matrix{Float64}:\n",
       " 1.61803    0.0       0.0       0.0       0.0\n",
       " 0.174133   2.01939   0.0       0.0       0.0\n",
       " 0.0755813  0.442461  2.23175   0.0       0.0\n",
       " 0.0401385  0.234975  0.654138  2.36563   0.0\n",
       " 0.0177604  0.103971  0.289442  0.604262  2.07777"
      ]
     },
     "execution_count": 6,
     "metadata": {},
     "output_type": "execute_result"
    }
   ],
   "source": [
    "compute_H(5)"
   ]
  },
  {
   "cell_type": "markdown",
   "id": "025c9c18-903f-4ee6-8a78-a56172a358a1",
   "metadata": {},
   "source": [
    "# Compute OGM H Matrix"
   ]
  },
  {
   "cell_type": "code",
   "execution_count": null,
   "id": "06190bf9-45b5-4651-8f63-3992c2f0363c",
   "metadata": {},
   "outputs": [
    {
     "data": {
      "text/plain": [
       "compute_H (generic function with 1 method)"
      ]
     },
     "execution_count": 1,
     "metadata": {},
     "output_type": "execute_result"
    }
   ],
   "source": [
    "function compute_theta(N)\n",
    "    θ = zeros(N+1)\n",
    "    θ[1] = 1.0  # θ₀\n",
    "    for i in 2:N\n",
    "        θ[i] = (1 + sqrt(1 + 4*θ[i-1]^2)) / 2\n",
    "    end\n",
    "    θ[N+1] = (1 + sqrt(1 + 8*θ[N]^2)) / 2  # θ_N\n",
    "    return θ\n",
    "end\n",
    "function compute_H(N)\n",
    "    θ = compute_theta(N)\n",
    "    H = zeros(N, N)\n",
    "    for i in 1:N\n",
    "        for k in 1:i-1\n",
    "            sum_hjk = sum(H[j, k] for j in k:i)\n",
    "            H[i, k] = (1 / θ[i+1]) * (2 * θ[k] - sum_hjk)\n",
    "        end\n",
    "        H[i, i] = 1+ (2*θ[i]-1) / θ[i+1]\n",
    "    end\n",
    "    return H\n",
    "end"
   ]
  },
  {
   "cell_type": "code",
   "execution_count": null,
   "id": "0e62718d-4bc9-492c-a35e-f30b24ee80cc",
   "metadata": {},
   "outputs": [
    {
     "data": {
      "text/plain": [
       "3×3 Matrix{Float64}:\n",
       " 1.61803    0.0       0.0\n",
       " 0.174133   2.01939   0.0\n",
       " 0.0570632  0.334054  1.92996"
      ]
     },
     "execution_count": 2,
     "metadata": {},
     "output_type": "execute_result"
    }
   ],
   "source": [
    "compute_H(3)"
   ]
  },
  {
   "cell_type": "code",
   "execution_count": null,
   "id": "15abeb79-fca0-4864-9149-f64005a886ba",
   "metadata": {},
   "outputs": [
    {
     "data": {
      "text/plain": [
       "4×4 Matrix{Float64}:\n",
       " 1.61803    0.0       0.0       0.0\n",
       " 0.174133   2.01939   0.0       0.0\n",
       " 0.0755813  0.442461  2.23175   0.0\n",
       " 0.0299157  0.17513   0.487537  2.01782"
      ]
     },
     "execution_count": 3,
     "metadata": {},
     "output_type": "execute_result"
    }
   ],
   "source": [
    "compute_H(4)"
   ]
  },
  {
   "cell_type": "code",
   "execution_count": null,
   "id": "573aa403-a705-47d5-96c1-1584a469305f",
   "metadata": {},
   "outputs": [
    {
     "data": {
      "text/plain": [
       "5×5 Matrix{Float64}:\n",
       " 1.61803    0.0       0.0       0.0       0.0\n",
       " 0.174133   2.01939   0.0       0.0       0.0\n",
       " 0.0755813  0.442461  2.23175   0.0       0.0\n",
       " 0.0401385  0.234975  0.654138  2.36563   0.0\n",
       " 0.0177604  0.103971  0.289442  0.604262  2.07777"
      ]
     },
     "execution_count": 4,
     "metadata": {},
     "output_type": "execute_result"
    }
   ],
   "source": [
    "compute_H(5)"
   ]
  },
  {
   "cell_type": "code",
   "execution_count": null,
   "id": "77e1beb8-87e0-4fc8-b46b-49c39a20d846",
   "metadata": {},
   "outputs": [],
   "source": []
  }
 ],
 "metadata": {
  "kernelspec": {
   "display_name": "Julia 1.10.4",
   "language": "julia",
   "name": "julia-1.10"
  },
  "language_info": {
   "file_extension": ".jl",
   "mimetype": "application/julia",
   "name": "julia",
   "version": "1.10.4"
  }
 },
 "nbformat": 4,
 "nbformat_minor": 5
}
